{
  "nbformat": 4,
  "nbformat_minor": 0,
  "metadata": {
    "colab": {
      "provenance": [],
      "authorship_tag": "ABX9TyOCDnvAv8MHVnhW7W8s6LUI",
      "include_colab_link": true
    },
    "kernelspec": {
      "name": "python3",
      "display_name": "Python 3"
    },
    "language_info": {
      "name": "python"
    }
  },
  "cells": [
    {
      "cell_type": "markdown",
      "metadata": {
        "id": "view-in-github",
        "colab_type": "text"
      },
      "source": [
        "<a href=\"https://colab.research.google.com/github/DerovKonstantin/1234/blob/main/Untitled0.ipynb\" target=\"_parent\"><img src=\"https://colab.research.google.com/assets/colab-badge.svg\" alt=\"Open In Colab\"/></a>"
      ]
    },
    {
      "cell_type": "code",
      "execution_count": null,
      "metadata": {
        "id": "CbcD6e6iCf8W"
      },
      "outputs": [],
      "source": [
        "import pandas as pd\n",
        "import random\n",
        "lst = ['robot'] * 10\n",
        "lst += ['human'] * 10\n",
        "random.shuffle(lst)\n",
        "data = pd.DataFrame({'whoAmI':lst})\n",
        "data.head()"
      ]
    },
    {
      "cell_type": "code",
      "source": [
        "pd.get_dummies(data['whoAmI'])"
      ],
      "metadata": {
        "id": "z4bCQHXxEBek"
      },
      "execution_count": null,
      "outputs": []
    },
    {
      "cell_type": "code",
      "source": [
        "from numpy import delete\n",
        "\n",
        "data.loc[data['whoAmI'] == 'human', ['human', 'robot']] = ['1','0']\n",
        "data.loc[data['whoAmI'] == 'robot', ['robot', 'human']] = ['1','0']\n",
        "del data[data.columns [0]]\n",
        "data.head()"
      ],
      "metadata": {
        "id": "j2qmqCRORGaQ"
      },
      "execution_count": null,
      "outputs": []
    }
  ]
}